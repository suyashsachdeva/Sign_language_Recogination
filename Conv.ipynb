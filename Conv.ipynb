{
 "cells": [
  {
   "cell_type": "markdown",
   "metadata": {},
   "source": [
    "# Libraries"
   ]
  },
  {
   "cell_type": "code",
   "execution_count": 1,
   "metadata": {},
   "outputs": [],
   "source": [
    "import tensorflow as tf\n",
    "import tensorflow.keras as K\n",
    "import tensorflow.keras.layers as L\n",
    "import tensorflow.keras.optimizers as O\n",
    "import tensorflow.keras.models as M \n",
    "import tensorflow.keras.preprocessing as P\n",
    "import tensorflow.keras.preprocessing.image as I\n",
    "\n",
    "import cv2\n",
    "import numpy as np\n",
    "import matplotlib.pyplot as plt\n",
    "import os\n",
    "\n",
    "import warnings\n",
    "warnings.filterwarnings(\"ignore\")"
   ]
  },
  {
   "cell_type": "markdown",
   "metadata": {},
   "source": [
    "# Model"
   ]
  },
  {
   "cell_type": "code",
   "execution_count": 32,
   "metadata": {},
   "outputs": [],
   "source": [
    "def CNNBlock(model, filter, kernel):\n",
    "    model = L.Conv2D(filter, kernel, padding=\"same\")(model)\n",
    "    model = L.BatchNormalization(momentum=0.8)(model)\n",
    "    model = L.LeakyReLU(alpha=0.1)(model)\n",
    "    model = L.MaxPool2D()(model)\n",
    "\n",
    "    return model"
   ]
  },
  {
   "cell_type": "code",
   "execution_count": 33,
   "metadata": {},
   "outputs": [],
   "source": [
    "def CNN(inp):\n",
    "    inp = L.Input(inp)\n",
    "    x = CNNBlock(inp,32,5)\n",
    "    x = CNNBlock(x,64,3)\n",
    "    x = CNNBlock(x,128,3)\n",
    "    x = CNNBlock(x,256,3)\n",
    "    x = CNNBlock(x,512,3)\n",
    "    x = L.Flatten()(x)\n",
    "    x = L.Dense(100, activation=\"relu\")(x)\n",
    "    x = L.Dense(29, activation=\"softmax\")(x)\n",
    "\n",
    "    model = M.Model(inputs=inp, outputs=x, name=\"Hands\")\n",
    "    \n",
    "    return model"
   ]
  },
  {
   "cell_type": "code",
   "execution_count": 34,
   "metadata": {},
   "outputs": [
    {
     "name": "stdout",
     "output_type": "stream",
     "text": [
      "Model: \"Hands\"\n",
      "_________________________________________________________________\n",
      " Layer (type)                Output Shape              Param #   \n",
      "=================================================================\n",
      " input_13 (InputLayer)       [(None, 200, 200, 3)]     0         \n",
      "                                                                 \n",
      " conv2d_46 (Conv2D)          (None, 200, 200, 32)      2432      \n",
      "                                                                 \n",
      " batch_normalization_45 (Bat  (None, 200, 200, 32)     128       \n",
      " chNormalization)                                                \n",
      "                                                                 \n",
      " leaky_re_lu_45 (LeakyReLU)  (None, 200, 200, 32)      0         \n",
      "                                                                 \n",
      " max_pooling2d_42 (MaxPoolin  (None, 100, 100, 32)     0         \n",
      " g2D)                                                            \n",
      "                                                                 \n",
      " conv2d_47 (Conv2D)          (None, 100, 100, 64)      18496     \n",
      "                                                                 \n",
      " batch_normalization_46 (Bat  (None, 100, 100, 64)     256       \n",
      " chNormalization)                                                \n",
      "                                                                 \n",
      " leaky_re_lu_46 (LeakyReLU)  (None, 100, 100, 64)      0         \n",
      "                                                                 \n",
      " max_pooling2d_43 (MaxPoolin  (None, 50, 50, 64)       0         \n",
      " g2D)                                                            \n",
      "                                                                 \n",
      " conv2d_48 (Conv2D)          (None, 50, 50, 128)       73856     \n",
      "                                                                 \n",
      " batch_normalization_47 (Bat  (None, 50, 50, 128)      512       \n",
      " chNormalization)                                                \n",
      "                                                                 \n",
      " leaky_re_lu_47 (LeakyReLU)  (None, 50, 50, 128)       0         \n",
      "                                                                 \n",
      " max_pooling2d_44 (MaxPoolin  (None, 25, 25, 128)      0         \n",
      " g2D)                                                            \n",
      "                                                                 \n",
      " conv2d_49 (Conv2D)          (None, 25, 25, 256)       295168    \n",
      "                                                                 \n",
      " batch_normalization_48 (Bat  (None, 25, 25, 256)      1024      \n",
      " chNormalization)                                                \n",
      "                                                                 \n",
      " leaky_re_lu_48 (LeakyReLU)  (None, 25, 25, 256)       0         \n",
      "                                                                 \n",
      " max_pooling2d_45 (MaxPoolin  (None, 12, 12, 256)      0         \n",
      " g2D)                                                            \n",
      "                                                                 \n",
      " conv2d_50 (Conv2D)          (None, 12, 12, 512)       1180160   \n",
      "                                                                 \n",
      " batch_normalization_49 (Bat  (None, 12, 12, 512)      2048      \n",
      " chNormalization)                                                \n",
      "                                                                 \n",
      " leaky_re_lu_49 (LeakyReLU)  (None, 12, 12, 512)       0         \n",
      "                                                                 \n",
      " max_pooling2d_46 (MaxPoolin  (None, 6, 6, 512)        0         \n",
      " g2D)                                                            \n",
      "                                                                 \n",
      " flatten_9 (Flatten)         (None, 18432)             0         \n",
      "                                                                 \n",
      " dense_18 (Dense)            (None, 100)               1843300   \n",
      "                                                                 \n",
      " dense_19 (Dense)            (None, 29)                2929      \n",
      "                                                                 \n",
      "=================================================================\n",
      "Total params: 3,420,309\n",
      "Trainable params: 3,418,325\n",
      "Non-trainable params: 1,984\n",
      "_________________________________________________________________\n"
     ]
    }
   ],
   "source": [
    "model = CNN((200,200,3))\n",
    "model.summary()"
   ]
  },
  {
   "cell_type": "markdown",
   "metadata": {},
   "source": [
    "# Dataset"
   ]
  },
  {
   "cell_type": "code",
   "execution_count": null,
   "metadata": {},
   "outputs": [],
   "source": []
  },
  {
   "cell_type": "markdown",
   "metadata": {},
   "source": [
    "### The following code is in the drive with the name SignLanguage"
   ]
  }
 ],
 "metadata": {
  "interpreter": {
   "hash": "8934747c923e747831e0f17a40e9012e1def99ed1de5f3713c68cc42b4047f71"
  },
  "kernelspec": {
   "display_name": "Python 3.9.4 64-bit",
   "language": "python",
   "name": "python3"
  },
  "language_info": {
   "codemirror_mode": {
    "name": "ipython",
    "version": 3
   },
   "file_extension": ".py",
   "mimetype": "text/x-python",
   "name": "python",
   "nbconvert_exporter": "python",
   "pygments_lexer": "ipython3",
   "version": "3.9.4"
  },
  "orig_nbformat": 4
 },
 "nbformat": 4,
 "nbformat_minor": 2
}
